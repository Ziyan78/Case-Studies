{
 "cells": [
  {
   "cell_type": "code",
   "execution_count": 14,
   "id": "bb120b33",
   "metadata": {},
   "outputs": [
    {
     "name": "stdout",
     "output_type": "stream",
     "text": [
      "Enter a value: 6\n",
      "bye\n"
     ]
    }
   ],
   "source": [
    "num = int(input(\"Enter a value: \"))\n",
    "if num % 5 == 0:\n",
    "    print(\"welcome\")\n",
    "else:\n",
    "    print(\"bye\")\n",
    "\n"
   ]
  },
  {
   "cell_type": "code",
   "execution_count": 19,
   "id": "6520cecb",
   "metadata": {},
   "outputs": [
    {
     "name": "stdout",
     "output_type": "stream",
     "text": [
      "Enter a value: 13\n",
      "Enter a value: 15\n",
      "Enter a value: 11\n",
      "Largest of all three is B\n"
     ]
    }
   ],
   "source": [
    "A = int(input(\"Enter a value: \"))\n",
    "B = int(input(\"Enter a value: \"))\n",
    "C = int(input(\"Enter a value: \"))\n",
    "if A > B :\n",
    "    print (\"Largest of all three is A\")\n",
    "elif B > C:\n",
    "    print (\"Largest of all three is B\")\n",
    "elif C > A:\n",
    "    print (\"Largest of all three is C\")"
   ]
  },
  {
   "cell_type": "code",
   "execution_count": 66,
   "id": "aa2c36fb",
   "metadata": {},
   "outputs": [
    {
     "name": "stdout",
     "output_type": "stream",
     "text": [
      "Enter a number from 1 to 7: 9\n",
      "Please select between 1 to 7\n"
     ]
    }
   ],
   "source": [
    "num = int(input(\"Enter a number from 1 to 7: \"))\n",
    "if num == 1:\n",
    "    print(\"Monday\")\n",
    "elif num == 2:\n",
    "    print(\"Tuesday\")\n",
    "elif num == 3:\n",
    "    print(\"Wednesday\")\n",
    "elif num == 4:\n",
    "    print(\"Thursday\")\n",
    "elif num == 5:\n",
    "    print(\"Friday\")\n",
    "elif num == 6:\n",
    "    print(\"Saturday\")\n",
    "elif num == 7:\n",
    "    print(\"Sunday\")\n",
    "elif num >= 8:\n",
    "    print(\"Please select between 1 to 7\")"
   ]
  },
  {
   "cell_type": "code",
   "execution_count": 74,
   "id": "ca909c28",
   "metadata": {},
   "outputs": [
    {
     "name": "stdout",
     "output_type": "stream",
     "text": [
      "Enter a city name: pune\n",
      "invalid\n"
     ]
    }
   ],
   "source": [
    "x = input(\"Enter a city name: \")\n",
    "if x == (\"Delhi\"):\n",
    "    print(\"The monument in Delhi is Red Fort\")\n",
    "elif x == (\"Agra\"):\n",
    "    print(\"The momument in Agra is Taj mahal\")\n",
    "elif x == (\"Jaipur\"):\n",
    "    print(\"The momument in Jaipur is Jal Mahal\")\n",
    "else: print(\"invalid\")"
   ]
  },
  {
   "cell_type": "code",
   "execution_count": 83,
   "id": "4187edd5",
   "metadata": {},
   "outputs": [
    {
     "name": "stdout",
     "output_type": "stream",
     "text": [
      "Enter num1:4565\n",
      "Enter num2:6456456\n",
      "Your answer is  29473721640\n"
     ]
    }
   ],
   "source": [
    "x = input(\"Enter num1:\")\n",
    "y = input(\"Enter num2:\")\n",
    "x = int(x)\n",
    "y = int(y)\n",
    "def multiply (x,y):\n",
    "    return(x*y)\n",
    "print(\"Your answer is \", multiply(x,y))"
   ]
  },
  {
   "cell_type": "code",
   "execution_count": 46,
   "id": "b997340b",
   "metadata": {},
   "outputs": [
    {
     "name": "stdout",
     "output_type": "stream",
     "text": [
      "Enter the year: 1995\n",
      "False\n"
     ]
    }
   ],
   "source": [
    "\n",
    "def devide(x):\n",
    "    if x % 4 == 0:\n",
    "        return True\n",
    "    if x % 100 == 0:\n",
    "        return False\n",
    "    if x % 400 == 0:\n",
    "        return True\n",
    "    return False\n",
    "\n",
    "print(devide(int(input(\"Enter the year: \"))))\n"
   ]
  },
  {
   "cell_type": "code",
   "execution_count": 58,
   "id": "cd6efbb4",
   "metadata": {},
   "outputs": [
    {
     "name": "stdout",
     "output_type": "stream",
     "text": [
      "Enter x: rock, paper or scissor: ROCK\n",
      "Enter y: rock, paper or scissor: PAPER\n",
      "y wins\n"
     ]
    }
   ],
   "source": [
    "x = input(\"Enter x: rock, paper or scissor: \")\n",
    "y = input(\"Enter y: rock, paper or scissor: \")\n",
    "x = x.lower()\n",
    "y = y.lower()\n",
    "if x == \"rock\" and y == \"paper\":\n",
    "    print(\"y wins\")\n",
    "elif x == \"rock\" and y == \"scissor\":\n",
    "    print(\"x wins\")\n",
    "elif x == \"paper\" and y == \"scissor\":\n",
    "    print(\"y wins\")\n",
    "elif x == \"paper\" and y == \"rock\":\n",
    "    print(\"x wins\")\n",
    "elif x == \"scissor\" and y == \"rock\":\n",
    "    print(\"y wins\")\n",
    "elif x == \"scissor\" and y == \"paper\":\n",
    "    print(\"x wins\")\n",
    "else: print(\"Invaid\")\n",
    " \n",
    "   \n"
   ]
  },
  {
   "cell_type": "code",
   "execution_count": 69,
   "id": "29e51b9a",
   "metadata": {},
   "outputs": [
    {
     "data": {
      "text/html": [
       "<div>\n",
       "<style scoped>\n",
       "    .dataframe tbody tr th:only-of-type {\n",
       "        vertical-align: middle;\n",
       "    }\n",
       "\n",
       "    .dataframe tbody tr th {\n",
       "        vertical-align: top;\n",
       "    }\n",
       "\n",
       "    .dataframe thead th {\n",
       "        text-align: right;\n",
       "    }\n",
       "</style>\n",
       "<table border=\"1\" class=\"dataframe\">\n",
       "  <thead>\n",
       "    <tr style=\"text-align: right;\">\n",
       "      <th></th>\n",
       "      <th>Employee_Name</th>\n",
       "      <th>EmpID</th>\n",
       "      <th>Sex</th>\n",
       "      <th>GenderID</th>\n",
       "      <th>MaritalDesc</th>\n",
       "      <th>MarriedID</th>\n",
       "      <th>MaritalStatusID</th>\n",
       "      <th>DOB</th>\n",
       "      <th>State</th>\n",
       "      <th>Zip</th>\n",
       "      <th>...</th>\n",
       "      <th>ManagerID</th>\n",
       "      <th>RecruitmentSource</th>\n",
       "      <th>LastPerformanceReview_Date</th>\n",
       "      <th>PerformanceScore</th>\n",
       "      <th>PerfScoreID</th>\n",
       "      <th>EngagementSurvey</th>\n",
       "      <th>EmpSatisfaction</th>\n",
       "      <th>SpecialProjectsCount</th>\n",
       "      <th>DaysLateLast30</th>\n",
       "      <th>Absences</th>\n",
       "    </tr>\n",
       "  </thead>\n",
       "  <tbody>\n",
       "    <tr>\n",
       "      <th>0</th>\n",
       "      <td>Le, Binh</td>\n",
       "      <td>10232</td>\n",
       "      <td>F</td>\n",
       "      <td>0</td>\n",
       "      <td>Single</td>\n",
       "      <td>0</td>\n",
       "      <td>0</td>\n",
       "      <td>06/14/87</td>\n",
       "      <td>MA</td>\n",
       "      <td>1886</td>\n",
       "      <td>...</td>\n",
       "      <td>13.0</td>\n",
       "      <td>Indeed</td>\n",
       "      <td>01/08/2019</td>\n",
       "      <td>Fully Meets</td>\n",
       "      <td>3</td>\n",
       "      <td>4.1</td>\n",
       "      <td>5</td>\n",
       "      <td>7</td>\n",
       "      <td>0</td>\n",
       "      <td>2</td>\n",
       "    </tr>\n",
       "    <tr>\n",
       "      <th>1</th>\n",
       "      <td>Martin, Sandra</td>\n",
       "      <td>10110</td>\n",
       "      <td>F</td>\n",
       "      <td>0</td>\n",
       "      <td>Single</td>\n",
       "      <td>0</td>\n",
       "      <td>0</td>\n",
       "      <td>11/07/1987</td>\n",
       "      <td>MA</td>\n",
       "      <td>2135</td>\n",
       "      <td>...</td>\n",
       "      <td>10.0</td>\n",
       "      <td>Google Search</td>\n",
       "      <td>1/14/2019</td>\n",
       "      <td>Fully Meets</td>\n",
       "      <td>3</td>\n",
       "      <td>4.5</td>\n",
       "      <td>5</td>\n",
       "      <td>4</td>\n",
       "      <td>0</td>\n",
       "      <td>14</td>\n",
       "    </tr>\n",
       "    <tr>\n",
       "      <th>2</th>\n",
       "      <td>Myers, Michael</td>\n",
       "      <td>10216</td>\n",
       "      <td>M</td>\n",
       "      <td>1</td>\n",
       "      <td>Single</td>\n",
       "      <td>0</td>\n",
       "      <td>0</td>\n",
       "      <td>04/18/80</td>\n",
       "      <td>MA</td>\n",
       "      <td>1550</td>\n",
       "      <td>...</td>\n",
       "      <td>20.0</td>\n",
       "      <td>LinkedIn</td>\n",
       "      <td>1/22/2019</td>\n",
       "      <td>Fully Meets</td>\n",
       "      <td>3</td>\n",
       "      <td>4.1</td>\n",
       "      <td>4</td>\n",
       "      <td>0</td>\n",
       "      <td>0</td>\n",
       "      <td>13</td>\n",
       "    </tr>\n",
       "    <tr>\n",
       "      <th>3</th>\n",
       "      <td>Navathe, Kurt</td>\n",
       "      <td>10079</td>\n",
       "      <td>M</td>\n",
       "      <td>1</td>\n",
       "      <td>Single</td>\n",
       "      <td>0</td>\n",
       "      <td>0</td>\n",
       "      <td>04/25/70</td>\n",
       "      <td>MA</td>\n",
       "      <td>2056</td>\n",
       "      <td>...</td>\n",
       "      <td>13.0</td>\n",
       "      <td>Indeed</td>\n",
       "      <td>2/25/2019</td>\n",
       "      <td>Fully Meets</td>\n",
       "      <td>3</td>\n",
       "      <td>5.0</td>\n",
       "      <td>3</td>\n",
       "      <td>6</td>\n",
       "      <td>0</td>\n",
       "      <td>17</td>\n",
       "    </tr>\n",
       "    <tr>\n",
       "      <th>4</th>\n",
       "      <td>Sutwell, Barbara</td>\n",
       "      <td>10209</td>\n",
       "      <td>F</td>\n",
       "      <td>0</td>\n",
       "      <td>Single</td>\n",
       "      <td>0</td>\n",
       "      <td>0</td>\n",
       "      <td>08/15/68</td>\n",
       "      <td>MA</td>\n",
       "      <td>2718</td>\n",
       "      <td>...</td>\n",
       "      <td>16.0</td>\n",
       "      <td>Indeed</td>\n",
       "      <td>1/31/2019</td>\n",
       "      <td>Fully Meets</td>\n",
       "      <td>3</td>\n",
       "      <td>3.4</td>\n",
       "      <td>5</td>\n",
       "      <td>0</td>\n",
       "      <td>0</td>\n",
       "      <td>13</td>\n",
       "    </tr>\n",
       "  </tbody>\n",
       "</table>\n",
       "<p>5 rows × 33 columns</p>\n",
       "</div>"
      ],
      "text/plain": [
       "      Employee_Name  EmpID Sex  GenderID MaritalDesc  MarriedID  \\\n",
       "0          Le, Binh  10232   F         0      Single          0   \n",
       "1    Martin, Sandra  10110   F         0      Single          0   \n",
       "2    Myers, Michael  10216  M          1      Single          0   \n",
       "3     Navathe, Kurt  10079  M          1      Single          0   \n",
       "4  Sutwell, Barbara  10209   F         0      Single          0   \n",
       "\n",
       "   MaritalStatusID         DOB State   Zip  ... ManagerID RecruitmentSource  \\\n",
       "0                0    06/14/87    MA  1886  ...      13.0            Indeed   \n",
       "1                0  11/07/1987    MA  2135  ...      10.0     Google Search   \n",
       "2                0    04/18/80    MA  1550  ...      20.0          LinkedIn   \n",
       "3                0    04/25/70    MA  2056  ...      13.0            Indeed   \n",
       "4                0    08/15/68    MA  2718  ...      16.0            Indeed   \n",
       "\n",
       "  LastPerformanceReview_Date PerformanceScore PerfScoreID EngagementSurvey  \\\n",
       "0                 01/08/2019      Fully Meets           3              4.1   \n",
       "1                  1/14/2019      Fully Meets           3              4.5   \n",
       "2                  1/22/2019      Fully Meets           3              4.1   \n",
       "3                  2/25/2019      Fully Meets           3              5.0   \n",
       "4                  1/31/2019      Fully Meets           3              3.4   \n",
       "\n",
       "   EmpSatisfaction SpecialProjectsCount  DaysLateLast30  Absences  \n",
       "0                5                    7               0         2  \n",
       "1                5                    4               0        14  \n",
       "2                4                    0               0        13  \n",
       "3                3                    6               0        17  \n",
       "4                5                    0               0        13  \n",
       "\n",
       "[5 rows x 33 columns]"
      ]
     },
     "execution_count": 69,
     "metadata": {},
     "output_type": "execute_result"
    }
   ],
   "source": [
    "import pandas as pd\n",
    "df = pd.read_csv(\"501+Case1+Dataset.csv\")\n",
    "df.head(5)"
   ]
  },
  {
   "cell_type": "code",
   "execution_count": 70,
   "id": "8e91a236",
   "metadata": {},
   "outputs": [
    {
     "data": {
      "text/html": [
       "<div>\n",
       "<style scoped>\n",
       "    .dataframe tbody tr th:only-of-type {\n",
       "        vertical-align: middle;\n",
       "    }\n",
       "\n",
       "    .dataframe tbody tr th {\n",
       "        vertical-align: top;\n",
       "    }\n",
       "\n",
       "    .dataframe thead th {\n",
       "        text-align: right;\n",
       "    }\n",
       "</style>\n",
       "<table border=\"1\" class=\"dataframe\">\n",
       "  <thead>\n",
       "    <tr style=\"text-align: right;\">\n",
       "      <th></th>\n",
       "      <th>Employee_Name</th>\n",
       "      <th>EmpID</th>\n",
       "      <th>Sex</th>\n",
       "      <th>GenderID</th>\n",
       "      <th>MaritalDesc</th>\n",
       "      <th>MarriedID</th>\n",
       "      <th>MaritalStatusID</th>\n",
       "      <th>DOB</th>\n",
       "      <th>State</th>\n",
       "      <th>Zip</th>\n",
       "      <th>...</th>\n",
       "      <th>ManagerID</th>\n",
       "      <th>RecruitmentSource</th>\n",
       "      <th>LastPerformanceReview_Date</th>\n",
       "      <th>PerformanceScore</th>\n",
       "      <th>PerfScoreID</th>\n",
       "      <th>EngagementSurvey</th>\n",
       "      <th>EmpSatisfaction</th>\n",
       "      <th>SpecialProjectsCount</th>\n",
       "      <th>DaysLateLast30</th>\n",
       "      <th>Absences</th>\n",
       "    </tr>\n",
       "  </thead>\n",
       "  <tbody>\n",
       "    <tr>\n",
       "      <th>307</th>\n",
       "      <td>Demita, Carla</td>\n",
       "      <td>10100</td>\n",
       "      <td>F</td>\n",
       "      <td>0</td>\n",
       "      <td>Separated</td>\n",
       "      <td>0</td>\n",
       "      <td>3</td>\n",
       "      <td>02/25/51</td>\n",
       "      <td>MA</td>\n",
       "      <td>2343</td>\n",
       "      <td>...</td>\n",
       "      <td>18.0</td>\n",
       "      <td>Google Search</td>\n",
       "      <td>05/06/2015</td>\n",
       "      <td>Fully Meets</td>\n",
       "      <td>3</td>\n",
       "      <td>4.62</td>\n",
       "      <td>5</td>\n",
       "      <td>0</td>\n",
       "      <td>0</td>\n",
       "      <td>1</td>\n",
       "    </tr>\n",
       "    <tr>\n",
       "      <th>308</th>\n",
       "      <td>Lundy, Susan</td>\n",
       "      <td>10096</td>\n",
       "      <td>F</td>\n",
       "      <td>0</td>\n",
       "      <td>Widowed</td>\n",
       "      <td>0</td>\n",
       "      <td>4</td>\n",
       "      <td>12/26/76</td>\n",
       "      <td>MA</td>\n",
       "      <td>2122</td>\n",
       "      <td>...</td>\n",
       "      <td>22.0</td>\n",
       "      <td>LinkedIn</td>\n",
       "      <td>06/10/2016</td>\n",
       "      <td>Fully Meets</td>\n",
       "      <td>3</td>\n",
       "      <td>4.65</td>\n",
       "      <td>4</td>\n",
       "      <td>0</td>\n",
       "      <td>0</td>\n",
       "      <td>15</td>\n",
       "    </tr>\n",
       "    <tr>\n",
       "      <th>309</th>\n",
       "      <td>MacLennan, Samuel</td>\n",
       "      <td>10191</td>\n",
       "      <td>M</td>\n",
       "      <td>1</td>\n",
       "      <td>Widowed</td>\n",
       "      <td>0</td>\n",
       "      <td>4</td>\n",
       "      <td>11/09/1972</td>\n",
       "      <td>MA</td>\n",
       "      <td>1938</td>\n",
       "      <td>...</td>\n",
       "      <td>11.0</td>\n",
       "      <td>Indeed</td>\n",
       "      <td>04/01/2017</td>\n",
       "      <td>Fully Meets</td>\n",
       "      <td>3</td>\n",
       "      <td>3.08</td>\n",
       "      <td>4</td>\n",
       "      <td>0</td>\n",
       "      <td>0</td>\n",
       "      <td>18</td>\n",
       "    </tr>\n",
       "    <tr>\n",
       "      <th>310</th>\n",
       "      <td>Thibaud, Kenneth</td>\n",
       "      <td>10268</td>\n",
       "      <td>M</td>\n",
       "      <td>1</td>\n",
       "      <td>Widowed</td>\n",
       "      <td>0</td>\n",
       "      <td>4</td>\n",
       "      <td>09/16/75</td>\n",
       "      <td>MA</td>\n",
       "      <td>2472</td>\n",
       "      <td>...</td>\n",
       "      <td>39.0</td>\n",
       "      <td>Other</td>\n",
       "      <td>7/14/2010</td>\n",
       "      <td>Fully Meets</td>\n",
       "      <td>3</td>\n",
       "      <td>4.10</td>\n",
       "      <td>4</td>\n",
       "      <td>0</td>\n",
       "      <td>0</td>\n",
       "      <td>15</td>\n",
       "    </tr>\n",
       "  </tbody>\n",
       "</table>\n",
       "<p>4 rows × 33 columns</p>\n",
       "</div>"
      ],
      "text/plain": [
       "         Employee_Name  EmpID Sex  GenderID MaritalDesc  MarriedID  \\\n",
       "307      Demita, Carla  10100   F         0   Separated          0   \n",
       "308       Lundy, Susan  10096   F         0     Widowed          0   \n",
       "309  MacLennan, Samuel  10191  M          1     Widowed          0   \n",
       "310   Thibaud, Kenneth  10268  M          1     Widowed          0   \n",
       "\n",
       "     MaritalStatusID         DOB State   Zip  ... ManagerID RecruitmentSource  \\\n",
       "307                3    02/25/51    MA  2343  ...      18.0     Google Search   \n",
       "308                4    12/26/76    MA  2122  ...      22.0          LinkedIn   \n",
       "309                4  11/09/1972    MA  1938  ...      11.0            Indeed   \n",
       "310                4    09/16/75    MA  2472  ...      39.0             Other   \n",
       "\n",
       "    LastPerformanceReview_Date PerformanceScore PerfScoreID EngagementSurvey  \\\n",
       "307                 05/06/2015      Fully Meets           3             4.62   \n",
       "308                 06/10/2016      Fully Meets           3             4.65   \n",
       "309                 04/01/2017      Fully Meets           3             3.08   \n",
       "310                  7/14/2010      Fully Meets           3             4.10   \n",
       "\n",
       "     EmpSatisfaction SpecialProjectsCount  DaysLateLast30  Absences  \n",
       "307                5                    0               0         1  \n",
       "308                4                    0               0        15  \n",
       "309                4                    0               0        18  \n",
       "310                4                    0               0        15  \n",
       "\n",
       "[4 rows x 33 columns]"
      ]
     },
     "execution_count": 70,
     "metadata": {},
     "output_type": "execute_result"
    }
   ],
   "source": [
    "df.tail(4)"
   ]
  },
  {
   "cell_type": "code",
   "execution_count": 71,
   "id": "a5fc5496",
   "metadata": {},
   "outputs": [
    {
     "name": "stdout",
     "output_type": "stream",
     "text": [
      "<class 'pandas.core.frame.DataFrame'>\n",
      "RangeIndex: 311 entries, 0 to 310\n",
      "Data columns (total 33 columns):\n",
      " #   Column                      Non-Null Count  Dtype  \n",
      "---  ------                      --------------  -----  \n",
      " 0   Employee_Name               311 non-null    object \n",
      " 1   EmpID                       311 non-null    int64  \n",
      " 2   Sex                         311 non-null    object \n",
      " 3   GenderID                    311 non-null    int64  \n",
      " 4   MaritalDesc                 311 non-null    object \n",
      " 5   MarriedID                   311 non-null    int64  \n",
      " 6   MaritalStatusID             311 non-null    int64  \n",
      " 7   DOB                         311 non-null    object \n",
      " 8   State                       311 non-null    object \n",
      " 9   Zip                         311 non-null    int64  \n",
      " 10  CitizenDesc                 311 non-null    object \n",
      " 11  RaceDesc                    311 non-null    object \n",
      " 12  DateofHire                  311 non-null    object \n",
      " 13  DateofTermination           104 non-null    object \n",
      " 14  TermReason                  311 non-null    object \n",
      " 15  EmploymentStatus            311 non-null    object \n",
      " 16  EmpStatusID                 311 non-null    int64  \n",
      " 17  Department                  311 non-null    object \n",
      " 18  DeptID                      311 non-null    int64  \n",
      " 19  Salary                      311 non-null    int64  \n",
      " 20  PositionID                  311 non-null    int64  \n",
      " 21  Position                    311 non-null    object \n",
      " 22  ManagerName                 311 non-null    object \n",
      " 23  ManagerID                   303 non-null    float64\n",
      " 24  RecruitmentSource           311 non-null    object \n",
      " 25  LastPerformanceReview_Date  311 non-null    object \n",
      " 26  PerformanceScore            311 non-null    object \n",
      " 27  PerfScoreID                 311 non-null    int64  \n",
      " 28  EngagementSurvey            311 non-null    float64\n",
      " 29  EmpSatisfaction             311 non-null    int64  \n",
      " 30  SpecialProjectsCount        311 non-null    int64  \n",
      " 31  DaysLateLast30              311 non-null    int64  \n",
      " 32  Absences                    311 non-null    int64  \n",
      "dtypes: float64(2), int64(14), object(17)\n",
      "memory usage: 80.3+ KB\n"
     ]
    }
   ],
   "source": [
    "df.info()"
   ]
  },
  {
   "cell_type": "code",
   "execution_count": 81,
   "id": "d9ec41ec",
   "metadata": {},
   "outputs": [
    {
     "data": {
      "text/plain": [
       "count       311\n",
       "unique        6\n",
       "top       White\n",
       "freq        169\n",
       "Name: RaceDesc, dtype: object"
      ]
     },
     "execution_count": 81,
     "metadata": {},
     "output_type": "execute_result"
    }
   ],
   "source": [
    "df[\"RaceDesc\"].describe()"
   ]
  },
  {
   "cell_type": "code",
   "execution_count": 80,
   "id": "dbf23e20",
   "metadata": {},
   "outputs": [
    {
     "data": {
      "text/plain": [
       "6"
      ]
     },
     "execution_count": 80,
     "metadata": {},
     "output_type": "execute_result"
    }
   ],
   "source": [
    "df[\"RaceDesc\"].nunique()"
   ]
  },
  {
   "cell_type": "code",
   "execution_count": 82,
   "id": "c48f8e51",
   "metadata": {},
   "outputs": [
    {
     "data": {
      "text/plain": [
       "14.570957095709572"
      ]
     },
     "execution_count": 82,
     "metadata": {},
     "output_type": "execute_result"
    }
   ],
   "source": [
    "df[\"ManagerID\"].mean()"
   ]
  },
  {
   "cell_type": "code",
   "execution_count": 83,
   "id": "086f6373",
   "metadata": {},
   "outputs": [
    {
     "data": {
      "text/plain": [
       "39.0"
      ]
     },
     "execution_count": 83,
     "metadata": {},
     "output_type": "execute_result"
    }
   ],
   "source": [
    "df[\"ManagerID\"].max()"
   ]
  },
  {
   "cell_type": "code",
   "execution_count": 84,
   "id": "28da384e",
   "metadata": {},
   "outputs": [
    {
     "data": {
      "text/plain": [
       "1.0"
      ]
     },
     "execution_count": 84,
     "metadata": {},
     "output_type": "execute_result"
    }
   ],
   "source": [
    "df[\"ManagerID\"].min()"
   ]
  },
  {
   "cell_type": "code",
   "execution_count": 85,
   "id": "4c6ee6aa",
   "metadata": {},
   "outputs": [
    {
     "data": {
      "text/plain": [
       "303"
      ]
     },
     "execution_count": 85,
     "metadata": {},
     "output_type": "execute_result"
    }
   ],
   "source": [
    "df[\"ManagerID\"].count()"
   ]
  },
  {
   "cell_type": "code",
   "execution_count": 86,
   "id": "3975a244",
   "metadata": {
    "scrolled": true
   },
   "outputs": [
    {
     "data": {
      "text/plain": [
       "0    12.0\n",
       "1    16.0\n",
       "2    18.0\n",
       "3    20.0\n",
       "Name: ManagerID, dtype: float64"
      ]
     },
     "execution_count": 86,
     "metadata": {},
     "output_type": "execute_result"
    }
   ],
   "source": [
    "df[\"ManagerID\"].mode()"
   ]
  },
  {
   "cell_type": "code",
   "execution_count": 87,
   "id": "93d30704",
   "metadata": {
    "scrolled": true
   },
   "outputs": [
    {
     "name": "stdout",
     "output_type": "stream",
     "text": [
      "<class 'pandas.core.frame.DataFrame'>\n",
      "RangeIndex: 311 entries, 0 to 310\n",
      "Data columns (total 33 columns):\n",
      " #   Column                      Non-Null Count  Dtype  \n",
      "---  ------                      --------------  -----  \n",
      " 0   Employee_Name               311 non-null    object \n",
      " 1   EmpID                       311 non-null    int64  \n",
      " 2   Sex                         311 non-null    object \n",
      " 3   GenderID                    311 non-null    int64  \n",
      " 4   MaritalDesc                 311 non-null    object \n",
      " 5   MarriedID                   311 non-null    int64  \n",
      " 6   MaritalStatusID             311 non-null    int64  \n",
      " 7   DOB                         311 non-null    object \n",
      " 8   State                       311 non-null    object \n",
      " 9   Zip                         311 non-null    int64  \n",
      " 10  CitizenDesc                 311 non-null    object \n",
      " 11  RaceDesc                    311 non-null    object \n",
      " 12  DateofHire                  311 non-null    object \n",
      " 13  DateofTermination           104 non-null    object \n",
      " 14  TermReason                  311 non-null    object \n",
      " 15  EmploymentStatus            311 non-null    object \n",
      " 16  EmpStatusID                 311 non-null    int64  \n",
      " 17  Department                  311 non-null    object \n",
      " 18  DeptID                      311 non-null    int64  \n",
      " 19  Salary                      311 non-null    int64  \n",
      " 20  PositionID                  311 non-null    int64  \n",
      " 21  Position                    311 non-null    object \n",
      " 22  ManagerName                 311 non-null    object \n",
      " 23  ManagerID                   303 non-null    float64\n",
      " 24  RecruitmentSource           311 non-null    object \n",
      " 25  LastPerformanceReview_Date  311 non-null    object \n",
      " 26  PerformanceScore            311 non-null    object \n",
      " 27  PerfScoreID                 311 non-null    int64  \n",
      " 28  EngagementSurvey            311 non-null    float64\n",
      " 29  EmpSatisfaction             311 non-null    int64  \n",
      " 30  SpecialProjectsCount        311 non-null    int64  \n",
      " 31  DaysLateLast30              311 non-null    int64  \n",
      " 32  Absences                    311 non-null    int64  \n",
      "dtypes: float64(2), int64(14), object(17)\n",
      "memory usage: 80.3+ KB\n"
     ]
    }
   ],
   "source": [
    "df.info()"
   ]
  },
  {
   "cell_type": "markdown",
   "id": "c6fb2078",
   "metadata": {},
   "source": [
    "# GROUP BY"
   ]
  },
  {
   "cell_type": "code",
   "execution_count": 91,
   "id": "2b77dc59",
   "metadata": {},
   "outputs": [
    {
     "name": "stderr",
     "output_type": "stream",
     "text": [
      "C:\\Users\\91882\\AppData\\Local\\Temp\\ipykernel_7916\\2007415843.py:1: FutureWarning: The default value of numeric_only in DataFrameGroupBy.mean is deprecated. In a future version, numeric_only will default to False. Either specify numeric_only or select only columns which should be valid for the function.\n",
      "  df.groupby(\"RaceDesc\").mean()[\"EmpSatisfaction\"]\n"
     ]
    },
    {
     "data": {
      "text/plain": [
       "RaceDesc\n",
       "American Indian or Alaska Native    4.666667\n",
       "Asian                               3.724138\n",
       "Black or African American           3.944444\n",
       "Hispanic                            3.814815\n",
       "Two or more races                   3.818182\n",
       "White                               3.899408\n",
       "Name: EmpSatisfaction, dtype: float64"
      ]
     },
     "execution_count": 91,
     "metadata": {},
     "output_type": "execute_result"
    }
   ],
   "source": [
    "df.groupby(\"RaceDesc\").mean()[\"EmpSatisfaction\"]"
   ]
  },
  {
   "cell_type": "code",
   "execution_count": null,
   "id": "806b8ad9",
   "metadata": {},
   "outputs": [],
   "source": []
  }
 ],
 "metadata": {
  "kernelspec": {
   "display_name": "Python 3 (ipykernel)",
   "language": "python",
   "name": "python3"
  },
  "language_info": {
   "codemirror_mode": {
    "name": "ipython",
    "version": 3
   },
   "file_extension": ".py",
   "mimetype": "text/x-python",
   "name": "python",
   "nbconvert_exporter": "python",
   "pygments_lexer": "ipython3",
   "version": "3.10.10"
  }
 },
 "nbformat": 4,
 "nbformat_minor": 5
}
